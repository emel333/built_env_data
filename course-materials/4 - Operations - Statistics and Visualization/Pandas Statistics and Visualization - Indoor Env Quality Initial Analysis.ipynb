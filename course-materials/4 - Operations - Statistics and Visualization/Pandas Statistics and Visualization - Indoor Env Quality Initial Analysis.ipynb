{
 "cells": [
  {
   "cell_type": "markdown",
   "metadata": {
    "colab_type": "text",
    "id": "TtKGF1rVLbxV"
   },
   "source": [
    "# IEQ Survey Analysis from the ASHRAE Thermal Comfort Database\n",
    "\n",
    "- Created by Clayton Miller - clayton@nus.edu.sg - miller.clayton@gmail.com\n",
    "\n",
    "In this notebook we will introduce the ASHRAE Thermal Comfort Database II. \n",
    "\n",
    "\n",
    "You can find the interface for extraction of the dataset with various filters possible: http://www.comfortdatabase.com/\n",
    "\n",
    "There is an existing data visualization interface found here: https://cbe-berkeley.shinyapps.io/comfortdatabase/\n",
    "\n",
    "The publication that outlines how the database was created is here: https://www.researchgate.net/publication/325848721_Development_of_the_ASHRAE_Global_Thermal_Comfort_Database_II\n"
   ]
  },
  {
   "cell_type": "markdown",
   "metadata": {
    "colab_type": "text",
    "id": "vTauV_qG-D9z"
   },
   "source": [
    "### Please note that the data set used in this analysis is a subset of the larger data set from the database -- in order to simply the analysis for demonstration-sake."
   ]
  },
  {
   "cell_type": "markdown",
   "metadata": {
    "colab_type": "text",
    "id": "d5KBSsTaNHFi"
   },
   "source": [
    "### Goal of the Notebook\n",
    "\n",
    "The goal of this notebook is to introduce various statistics and visualization techniques to analyse data from populations of people. These techniques can be used to understand distributions of objects beyond people -- could be data from BIM models, devices, or other things in the built environment"
   ]
  },
  {
   "cell_type": "code",
   "execution_count": null,
   "metadata": {
    "colab": {},
    "colab_type": "code",
    "id": "llaRmKs1LbxW"
   },
   "outputs": [],
   "source": [
    "import pandas as pd\n",
    "from google.colab import drive\n",
    "import os\n",
    "import matplotlib.pyplot as plt"
   ]
  },
  {
   "cell_type": "code",
   "execution_count": null,
   "metadata": {
    "colab": {},
    "colab_type": "code",
    "id": "qTIxxpDzLbxY"
   },
   "outputs": [],
   "source": [
    "%matplotlib inline"
   ]
  },
  {
   "cell_type": "code",
   "execution_count": null,
   "metadata": {
    "colab": {},
    "colab_type": "code",
    "id": "asS8FvWcLdsW"
   },
   "outputs": [],
   "source": [
    "drive.mount('/content/gdrive')\n",
    "os.chdir(\"/content/gdrive/My Drive/EDX Data Science for Construction, Architecture and Engineering/4 - Operations - Statistics and Visualization/\")"
   ]
  },
  {
   "cell_type": "code",
   "execution_count": null,
   "metadata": {
    "colab": {},
    "colab_type": "code",
    "id": "mEzbrZwzLbxb"
   },
   "outputs": [],
   "source": [
    "ieq_data = pd.read_csv(\"ashrae_thermal_comfort_database_2.csv\", index_col='Unnamed: 0')"
   ]
  },
  {
   "cell_type": "markdown",
   "metadata": {
    "colab_type": "text",
    "id": "RqQYPwlyMNWH"
   },
   "source": [
    "Let's take a look what's inside the file included in this repository."
   ]
  },
  {
   "cell_type": "code",
   "execution_count": null,
   "metadata": {
    "colab": {},
    "colab_type": "code",
    "id": "vaawaP3KLbxd"
   },
   "outputs": [],
   "source": [
    "ieq_data.head()"
   ]
  },
  {
   "cell_type": "markdown",
   "metadata": {
    "colab_type": "text",
    "id": "RFfX2BgiMSO9"
   },
   "source": [
    "As you can see, there are many more columns in this data set than the IoT data. This data is what we call 'Tabular' data.\n",
    "\n",
    "Let's use the `.info()` view to take a look at the columns available and the number of rows."
   ]
  },
  {
   "cell_type": "code",
   "execution_count": null,
   "metadata": {
    "colab": {},
    "colab_type": "code",
    "id": "M7QYnx_xLbxh"
   },
   "outputs": [],
   "source": [
    "ieq_data.info()"
   ]
  },
  {
   "cell_type": "markdown",
   "metadata": {
    "colab_type": "text",
    "id": "hV14lqwgKGPC"
   },
   "source": [
    "# Summarizing Data\n",
    "\n",
    "Statistical resepresentations of populations of data are interesting for data analysts to get a high level overview of what's called **descriptors**. Some are very commonly undestood -- including *mean*, *max*, and *min*. There many other aggregation-based descriptors that can be found in the Pandas Cheat Sheet.\n",
    "\n",
    "https://pandas.pydata.org/Pandas_Cheat_Sheet.pdf"
   ]
  },
  {
   "cell_type": "markdown",
   "metadata": {
    "colab_type": "text",
    "id": "KWb_CRVp9Um1"
   },
   "source": [
    "## Statistical Descriptors using `.describe()` function\n",
    "\n",
    "You can apply a single function -- `.describe()` that will summarize the most commonly used descriptors"
   ]
  },
  {
   "cell_type": "code",
   "execution_count": null,
   "metadata": {
    "colab": {},
    "colab_type": "code",
    "id": "evdBNNov90NK"
   },
   "outputs": [],
   "source": [
    "ieq_data.info()"
   ]
  },
  {
   "cell_type": "code",
   "execution_count": null,
   "metadata": {
    "colab": {},
    "colab_type": "code",
    "id": "0RaSM_9fKLY9"
   },
   "outputs": [],
   "source": [
    "ieq_data.describe()"
   ]
  },
  {
   "cell_type": "markdown",
   "metadata": {
    "colab_type": "text",
    "id": "VxSwEliVSCqc"
   },
   "source": [
    "You can notice that the function automatically excludes columns that don't include `float` data types. "
   ]
  },
  {
   "cell_type": "markdown",
   "metadata": {
    "colab_type": "text",
    "id": "ga9nizfiT0GL"
   },
   "source": [
    "## Summary Functions\n",
    "\n",
    "You can implement summary functions that focus on the individual attributes on their own."
   ]
  },
  {
   "cell_type": "code",
   "execution_count": null,
   "metadata": {
    "colab": {},
    "colab_type": "code",
    "id": "qxXWYEahTz6b"
   },
   "outputs": [],
   "source": [
    "ieq_data['Clo'].sum()"
   ]
  },
  {
   "cell_type": "code",
   "execution_count": null,
   "metadata": {
    "colab": {},
    "colab_type": "code",
    "id": "_bpLt3NCTzzz"
   },
   "outputs": [],
   "source": [
    "ieq_data['Clo'].mean()"
   ]
  },
  {
   "cell_type": "code",
   "execution_count": null,
   "metadata": {
    "colab": {},
    "colab_type": "code",
    "id": "ykGMx3RRTzo7"
   },
   "outputs": [],
   "source": [
    "ieq_data['Clo'].std()"
   ]
  },
  {
   "cell_type": "markdown",
   "metadata": {
    "colab_type": "text",
    "id": "EZDlA_P79bZG"
   },
   "source": [
    "## Understanding the diversity of data in a column full of categories\n",
    "\n",
    "With data sets like this, you often want to understand the diversity of behavior in each of the columns that have categorical characteristics"
   ]
  },
  {
   "cell_type": "code",
   "execution_count": null,
   "metadata": {
    "colab": {},
    "colab_type": "code",
    "id": "A0KQGK7i0yJu"
   },
   "outputs": [],
   "source": [
    "ieq_data.info()"
   ]
  },
  {
   "cell_type": "code",
   "execution_count": null,
   "metadata": {
    "colab": {},
    "colab_type": "code",
    "id": "RdtMqd8dUAh1"
   },
   "outputs": [],
   "source": [
    "len(ieq_data)"
   ]
  },
  {
   "cell_type": "code",
   "execution_count": null,
   "metadata": {
    "colab": {},
    "colab_type": "code",
    "id": "4iRBV1Q89TW5"
   },
   "outputs": [],
   "source": [
    "ieq_data['Country'].nunique()"
   ]
  },
  {
   "cell_type": "code",
   "execution_count": null,
   "metadata": {
    "colab": {},
    "colab_type": "code",
    "id": "niEyMbvS9TaD"
   },
   "outputs": [],
   "source": [
    "ieq_data['Country'].value_counts()"
   ]
  },
  {
   "cell_type": "code",
   "execution_count": null,
   "metadata": {
    "colab": {},
    "colab_type": "code",
    "id": "GXl7yyq40Kar"
   },
   "outputs": [],
   "source": [
    "ieq_data['Building type'].value_counts()"
   ]
  },
  {
   "cell_type": "code",
   "execution_count": null,
   "metadata": {
    "colab": {},
    "colab_type": "code",
    "id": "dGtjxyEC1CO7"
   },
   "outputs": [],
   "source": [
    "ieq_data['Climate'].value_counts()"
   ]
  },
  {
   "cell_type": "code",
   "execution_count": null,
   "metadata": {
    "colab": {},
    "colab_type": "code",
    "id": "7PM4ThS01Gh6"
   },
   "outputs": [],
   "source": [
    "ieq_data['Sex'].value_counts()"
   ]
  },
  {
   "cell_type": "code",
   "execution_count": null,
   "metadata": {
    "colab": {},
    "colab_type": "code",
    "id": "IFXh2HFy1GlL"
   },
   "outputs": [],
   "source": [
    "ieq_data['Cooling startegy_building level'].value_counts()"
   ]
  },
  {
   "cell_type": "code",
   "execution_count": null,
   "metadata": {
    "colab": {},
    "colab_type": "code",
    "id": "vbtWbZxU1Gnx"
   },
   "outputs": [],
   "source": [
    "ieq_data['Year'].value_counts()"
   ]
  },
  {
   "cell_type": "code",
   "execution_count": null,
   "metadata": {
    "colab": {},
    "colab_type": "code",
    "id": "xyGGy30S1Grl"
   },
   "outputs": [],
   "source": [
    "ieq_data['Season'].value_counts()"
   ]
  },
  {
   "cell_type": "code",
   "execution_count": null,
   "metadata": {
    "colab": {},
    "colab_type": "code",
    "id": "HpBmmVkc1WBD"
   },
   "outputs": [],
   "source": [
    "ieq_data['ThermalSensation_rounded'].value_counts()"
   ]
  },
  {
   "cell_type": "markdown",
   "metadata": {
    "colab_type": "text",
    "id": "Y-23AKTrKLvn"
   },
   "source": [
    "# Reshaping Data\n",
    "\n",
    "Sometimes we want to use **pivot table** style excecutions to focus on the aggregations of certain columns that might be useful.\n",
    "\n",
    "For example, we can use the `.pivot_table()` function to chose a column (*Country*) as the index, another column as the pivoted vector (*Thermal Sensation*), and a value that is aggregated at these intersections (*Outside air temperature*):"
   ]
  },
  {
   "cell_type": "markdown",
   "metadata": {
    "colab_type": "text",
    "id": "OPRMLVVc4CDb"
   },
   "source": [
    "### Pivoting Dataframes"
   ]
  },
  {
   "cell_type": "code",
   "execution_count": null,
   "metadata": {
    "colab": {},
    "colab_type": "code",
    "id": "CRj0Yok816A4"
   },
   "outputs": [],
   "source": [
    "ieq_data_pivoted = ieq_data.pivot_table(index='Country', columns='ThermalSensation_rounded', values='Air temperature (C)', aggfunc='mean')"
   ]
  },
  {
   "cell_type": "code",
   "execution_count": null,
   "metadata": {
    "colab": {},
    "colab_type": "code",
    "id": "jRsZ78_R16GD"
   },
   "outputs": [],
   "source": [
    "ieq_data_pivoted"
   ]
  },
  {
   "cell_type": "markdown",
   "metadata": {
    "colab_type": "text",
    "id": "Ni8wq3t93p4O"
   },
   "source": [
    "This transformation has converted the larger raw data set into one that shows the average outside air temperatures for each country in the using the different Thermal Sensations (Rounded) -- this is very interested to compare the different locations\n",
    "\n",
    "### Melting a DataFrame (Unpivoting)\n",
    "\n",
    "Sometimes you will have an aggregated DataFrame that you want to make tall and skinny -- this might be done because other models or visualization techniques require this format -- especially those from Seaborn"
   ]
  },
  {
   "cell_type": "code",
   "execution_count": null,
   "metadata": {
    "colab": {},
    "colab_type": "code",
    "id": "6bov_bcl16JW"
   },
   "outputs": [],
   "source": [
    "ieq_data_pivoted.melt().head()"
   ]
  },
  {
   "cell_type": "markdown",
   "metadata": {
    "colab_type": "text",
    "id": "LJUG-gFOtJhZ"
   },
   "source": [
    "# Grouping Data\n",
    "\n",
    "The practice of **Grouping** is similar to pivoting, but is only in one dimension and usually on the index\n",
    "\n",
    "For example, if you wanted to group the rows according to the **Country** that the data is from and take an average across all the non-categorical columns, this would be done like this:"
   ]
  },
  {
   "cell_type": "code",
   "execution_count": null,
   "metadata": {
    "colab": {},
    "colab_type": "code",
    "id": "YTqSxYPMtJMA"
   },
   "outputs": [],
   "source": [
    "ieq_data.groupby(\"Country\").mean()"
   ]
  },
  {
   "cell_type": "markdown",
   "metadata": {
    "colab_type": "text",
    "id": "z4w0Rs7K8b63"
   },
   "source": [
    "You can also groupby using other aggregations:"
   ]
  },
  {
   "cell_type": "code",
   "execution_count": null,
   "metadata": {
    "colab": {},
    "colab_type": "code",
    "id": "k66BIw4w8ang"
   },
   "outputs": [],
   "source": [
    "ieq_data.groupby(\"Country\").median()"
   ]
  },
  {
   "cell_type": "code",
   "execution_count": null,
   "metadata": {
    "colab": {},
    "colab_type": "code",
    "id": "HZwlMOQ08akq"
   },
   "outputs": [],
   "source": [
    "ieq_data.groupby(\"Country\").size()"
   ]
  },
  {
   "cell_type": "markdown",
   "metadata": {
    "colab_type": "text",
    "id": "F_jB-CONLbxk"
   },
   "source": [
    "# Plotting populations of data\n",
    "\n",
    "Aggregations, grouping and pivoting are processes in which we can get statistical distributions of data in a form that can be used for further analysis. But, as a human, we simply want to **see** the distributions and understand ways that we can interpret those results. That's where visualizations come into play\n"
   ]
  },
  {
   "cell_type": "markdown",
   "metadata": {
    "colab_type": "text",
    "id": "JjPSX9nR892p"
   },
   "source": [
    "## Use Boxplots to analyze thermal comfort data\n",
    "\n",
    "Boxplots are a super common means of expressing the range and behavior of a distribution. \n",
    "\n"
   ]
  },
  {
   "cell_type": "code",
   "execution_count": null,
   "metadata": {
    "colab": {},
    "colab_type": "code",
    "id": "xJtChVjW1kE0"
   },
   "outputs": [],
   "source": [
    "ieq_data.info()"
   ]
  },
  {
   "cell_type": "code",
   "execution_count": null,
   "metadata": {
    "colab": {},
    "colab_type": "code",
    "id": "xsUxFO_N1GJM"
   },
   "outputs": [],
   "source": [
    "ieq_data[['Air temperature (C)','Relative humidity (%)']].boxplot()"
   ]
  },
  {
   "cell_type": "code",
   "execution_count": null,
   "metadata": {
    "colab": {},
    "colab_type": "code",
    "id": "QMPNja162FA9"
   },
   "outputs": [],
   "source": [
    "color = {'boxes': 'DarkGreen', 'whiskers': 'DarkOrange',  'medians': 'DarkBlue', 'caps': 'Gray'}\n",
    "ieq_data[['Air temperature (C)','Relative humidity (%)']].plot.box(color=color, sym='r+', figsize=(5,10))"
   ]
  },
  {
   "cell_type": "code",
   "execution_count": null,
   "metadata": {
    "colab": {},
    "colab_type": "code",
    "id": "UrMf08VJ2ZVA"
   },
   "outputs": [],
   "source": [
    "ieq_data[['Air temperature (C)','Relative humidity (%)']].plot.box(color=color, sym='r+', figsize=(10,5), vert=False)"
   ]
  },
  {
   "cell_type": "code",
   "execution_count": null,
   "metadata": {
    "colab": {},
    "colab_type": "code",
    "id": "xvhHhTwA2nUq"
   },
   "outputs": [],
   "source": [
    "ieq_data[['Air temperature (C)','Relative humidity (%)','Country']].groupby('Country').boxplot(figsize=(20,20));"
   ]
  },
  {
   "cell_type": "markdown",
   "metadata": {
    "colab_type": "text",
    "id": "u1Rlp3OKw40I"
   },
   "source": [
    "## Histograms\n",
    "\n",
    "Histograms are one of the most commons ways of illustarting the shape of data"
   ]
  },
  {
   "cell_type": "code",
   "execution_count": null,
   "metadata": {
    "colab": {},
    "colab_type": "code",
    "id": "w8UaAKyqxv1v"
   },
   "outputs": [],
   "source": [
    "ieq_data.hist(figsize=(10,10));"
   ]
  },
  {
   "cell_type": "markdown",
   "metadata": {
    "colab_type": "text",
    "id": "dIieDY_p8oVo"
   },
   "source": [
    "## Density Plots\n",
    "\n",
    "This visualization is like a smoothed out box plot with the ratio on the y-axis instead of count"
   ]
  },
  {
   "cell_type": "code",
   "execution_count": null,
   "metadata": {
    "colab": {},
    "colab_type": "code",
    "id": "4EyNDoXS8noK"
   },
   "outputs": [],
   "source": [
    "ieq_data['Air temperature (C)'].plot.kde()"
   ]
  },
  {
   "cell_type": "markdown",
   "metadata": {
    "colab_type": "text",
    "id": "CQlj81jQ9DKR"
   },
   "source": [
    "## Scatter plots\n",
    "\n",
    "This plot was covered in the IoT Videos, but it can be applied easily to tabular data as well to show the relationship between two variables"
   ]
  },
  {
   "cell_type": "code",
   "execution_count": null,
   "metadata": {
    "colab": {},
    "colab_type": "code",
    "id": "mwLN3nwt3HoS"
   },
   "outputs": [],
   "source": [
    "ieq_data.info()"
   ]
  },
  {
   "cell_type": "code",
   "execution_count": null,
   "metadata": {
    "colab": {},
    "colab_type": "code",
    "id": "7qNpwydYLbyF"
   },
   "outputs": [],
   "source": [
    "ieq_data.plot.scatter(x='Air temperature (C)', y='Relative humidity (%)');"
   ]
  },
  {
   "cell_type": "code",
   "execution_count": null,
   "metadata": {
    "colab": {},
    "colab_type": "code",
    "id": "ew4aZ91mu1GZ"
   },
   "outputs": [],
   "source": [
    "ieq_data.plot.scatter(x='Air temperature (C)', y='Relative humidity (%)', c='ThermalSensation_rounded', figsize=(15,10));"
   ]
  },
  {
   "cell_type": "markdown",
   "metadata": {
    "colab_type": "text",
    "id": "FmPNky1d9Ff5"
   },
   "source": [
    "## Scatterplot Matrix\n",
    "\n",
    "A scatterplot matrix enables the user to compare correlations from several columns at once"
   ]
  },
  {
   "cell_type": "code",
   "execution_count": null,
   "metadata": {
    "colab": {},
    "colab_type": "code",
    "id": "n2rVnBDL4k9E"
   },
   "outputs": [],
   "source": [
    "from pandas.plotting import scatter_matrix"
   ]
  },
  {
   "cell_type": "code",
   "execution_count": null,
   "metadata": {
    "colab": {},
    "colab_type": "code",
    "id": "Ot7L4rfGvBbC"
   },
   "outputs": [],
   "source": [
    "scatter_matrix(ieq_data[['Air temperature (C)','Relative humidity (%)','ThermalSensation_rounded']], alpha=0.2, figsize=(10,10), diagonal='hist');"
   ]
  },
  {
   "cell_type": "markdown",
   "metadata": {
    "colab_type": "text",
    "id": "gDQNIx-L7a9q"
   },
   "source": [
    "## Parallel Coordinate Plots\n",
    "\n",
    "Parallel coordinate plots are a multi-variate visualation method to compare several quantitative columns at the same time.\n"
   ]
  },
  {
   "cell_type": "code",
   "execution_count": null,
   "metadata": {
    "colab": {},
    "colab_type": "code",
    "id": "_s820TVE0mU8"
   },
   "outputs": [],
   "source": [
    "from pandas.plotting import parallel_coordinates\n"
   ]
  },
  {
   "cell_type": "code",
   "execution_count": null,
   "metadata": {
    "colab": {},
    "colab_type": "code",
    "id": "S11yGoPc8Mmr"
   },
   "outputs": [],
   "source": [
    "ieq_data[['Air temperature (C)','Relative humidity (%)','ThermalSensation_rounded','Air velocity (m/s)']].iloc[:500].info()"
   ]
  },
  {
   "cell_type": "code",
   "execution_count": null,
   "metadata": {
    "colab": {},
    "colab_type": "code",
    "id": "ea0OKLMa7pwd"
   },
   "outputs": [],
   "source": [
    "parallel_coordinates(ieq_data[['Air temperature (C)','Relative humidity (%)','ThermalSensation_rounded','Air velocity (m/s)']].iloc[:500], 'ThermalSensation_rounded');"
   ]
  },
  {
   "cell_type": "code",
   "execution_count": null,
   "metadata": {
    "colab": {},
    "colab_type": "code",
    "id": "1Gx8bXEY7z7A"
   },
   "outputs": [],
   "source": [
    ""
   ]
  }
 ],
 "metadata": {
  "colab": {
   "collapsed_sections": [],
   "name": "Pandas Statistics and Visualization - Indoor Env Quality Initial Analysis.ipynb",
   "provenance": [],
   "toc_visible": true
  },
  "kernelspec": {
   "display_name": "Python 3",
   "language": "python",
   "name": "python3"
  }
 },
 "nbformat": 4,
 "nbformat_minor": 0
}
