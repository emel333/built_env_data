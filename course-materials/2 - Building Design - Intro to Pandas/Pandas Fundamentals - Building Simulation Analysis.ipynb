{
 "cells": [
  {
   "cell_type": "markdown",
   "metadata": {
    "colab_type": "text",
    "id": "vsGJTlAEEqA_"
   },
   "source": [
    "# Visualization and analysis of simulated building energy data - Case Study of a Shopping Mall in Dubai\n",
    "\n",
    "- Developed by Clayton Miller (clayton@nus.edu.sg - miller.clayton@gmail.com)\n",
    "- Simulation files and visualizations created by Miguel Martin (miguel.martin@u.nus.edu.sg)"
   ]
  },
  {
   "cell_type": "markdown",
   "metadata": {
    "colab_type": "text",
    "id": "qHx2Vn9jEti9"
   },
   "source": [
    "Here is a tutorial for data analysis of simulated data from a building energy model like EnergyPlus. We will look at a scenario of a Mall based in Dubai, UAE\n",
    "\n",
    "The goal of this notebook is to illustrate how to use output files from the EnergyPlus energy simulation engine to get an initial understanding of the Pandas DataFrame and functions\n",
    "\n"
   ]
  },
  {
   "cell_type": "markdown",
   "metadata": {
    "colab_type": "text",
    "id": "F93i2oJ4P4Jz"
   },
   "source": [
    "## The Pandas online cheat sheet\n",
    "\n",
    "Throughout this and all future notebooks, we will refer to the Pandas function cheat sheet as a resource to help us understand the most important functions and how to use them\n",
    "\n",
    "https://pandas.pydata.org/Pandas_Cheat_Sheet.pdf"
   ]
  },
  {
   "cell_type": "markdown",
   "metadata": {
    "colab_type": "text",
    "id": "ObMuWIae9IJk"
   },
   "source": [
    "# Case Study -- Shopping Mall Design in Dubai\n",
    "\n",
    "### The scenario for this analysis ia shopping mall project in Dubai. Imagine you are on the design team and are asked to design this building complex.  \n",
    "- One of the biggest shopping mall of the world\n",
    "- Located in United Arab Emirates (i.e. arid climate)\n",
    "- Floor area is about 500,000 m2\n",
    "- Number of visitors every year is around 90 million\n",
    "- Building with tremendously high cooling energy demand\n",
    "\n",
    "### There will be various decisions to make about which design options to integrate into the design\n",
    "\n"
   ]
  },
  {
   "cell_type": "markdown",
   "metadata": {
    "colab_type": "text",
    "id": "wyrHmCcDA_HC"
   },
   "source": [
    "Miguel Martin (PhD student at NUS) has already created several EnergyPlus simulations of a prototype building form and produced results of monthly cooling energy. This set of tutorial videos will cover the ways to analyze the data from those simulations while learning the fundamentals of the Pandas library\n",
    "\n",
    "![alt text](https://github.com/buds-lab/the-building-data-genome-project/blob/master/docs/edx-graphics/EDX-SimulationImage-2.png?raw=true)\n",
    "\n",
    "The first thing we will do is use the pandas library to load the data set and analyze the data from the 'baseline' energy model. The units of this file is Cooling Energy GWh per month\n",
    "\n",
    "First, we need to load the `pandas` library and load the `.csv` file\n"
   ]
  },
  {
   "cell_type": "code",
   "execution_count": null,
   "metadata": {
    "colab": {},
    "colab_type": "code",
    "id": "fNZrRtGDEfME"
   },
   "outputs": [],
   "source": [
    "import pandas as pd"
   ]
  },
  {
   "cell_type": "markdown",
   "metadata": {
    "colab_type": "text",
    "id": "ZNi_5tToHYIr"
   },
   "source": [
    "For Google Colab to find the simulation files in the Drive, we need to `mount` the drive to use the files in this notebook. We can use the `os` library to open the right folder in the Google drive"
   ]
  },
  {
   "cell_type": "code",
   "execution_count": null,
   "metadata": {
    "colab": {},
    "colab_type": "code",
    "id": "70PCJf1OEld1"
   },
   "outputs": [],
   "source": [
    "from google.colab import drive\n",
    "drive.mount('/content/gdrive')\n",
    "import os"
   ]
  },
  {
   "cell_type": "code",
   "execution_count": null,
   "metadata": {
    "colab": {},
    "colab_type": "code",
    "id": "ftONdsLcEyyo"
   },
   "outputs": [],
   "source": [
    "os.chdir(\"/content/gdrive/My Drive/EDX Data Science for Construction, Architecture and Engineering/2 - Building Design - Intro to Pandas/simulation_data\")"
   ]
  },
  {
   "cell_type": "markdown",
   "metadata": {
    "colab_type": "text",
    "id": "GKNNaFSDH2n8"
   },
   "source": [
    "We will take a look at all the files in folder using the `ls` command -- this command is typical of a linux command line and the Colab notebook let's use execute these types of commands in addition to Python"
   ]
  },
  {
   "cell_type": "code",
   "execution_count": null,
   "metadata": {
    "colab": {},
    "colab_type": "code",
    "id": "bd9COTxqFLNw"
   },
   "outputs": [],
   "source": [
    "ls"
   ]
  },
  {
   "cell_type": "markdown",
   "metadata": {
    "colab_type": "text",
    "id": "nDxflS6-YBsp"
   },
   "source": [
    "# Pandas DataFrame Object\n",
    "\n",
    "Before we do this analysis, let's look at a generic DataFrame object created from data specificied in a line of source code\n",
    "\n",
    "The following code creates a DataFrame object labelled `df`\n",
    "\n"
   ]
  },
  {
   "cell_type": "code",
   "execution_count": null,
   "metadata": {
    "colab": {},
    "colab_type": "code",
    "id": "vur5Q6FdYMq3"
   },
   "outputs": [],
   "source": [
    "df = pd.DataFrame(\n",
    "[[4, 7, 10],\n",
    "[5, 8, 11],\n",
    "[6, 9, 12]],\n",
    "index=[1, 2, 3],\n",
    "columns=['a', 'b', 'c'])"
   ]
  },
  {
   "cell_type": "code",
   "execution_count": null,
   "metadata": {
    "colab": {},
    "colab_type": "code",
    "id": "Rib8n129YVbX"
   },
   "outputs": [],
   "source": [
    "df"
   ]
  },
  {
   "cell_type": "markdown",
   "metadata": {
    "colab_type": "text",
    "id": "bSoj4zyALn2a"
   },
   "source": [
    "# Loading Data from files\n",
    "\n",
    "Instead of creating DataFrames from scratch, we generally load data from various file types - the most common being files with the extension `.csv` or `.xlsx`. There are several pandas functions to both read and write data from and to various files. \n",
    "\n",
    "The following is a list of functions in pandas (https://pandas.pydata.org/pandas-docs/stable/user_guide/io.html):\n",
    "\n",
    "![alt text](https://github.com/buds-lab/the-building-data-genome-project/blob/master/docs/edx-graphics/EDX-SimulationImage-8.png?raw=true)\n",
    "\n",
    "### First step, let's load the baseline `.csv` file:"
   ]
  },
  {
   "cell_type": "code",
   "execution_count": null,
   "metadata": {
    "colab": {},
    "colab_type": "code",
    "id": "PDn5xQ6H-Xpu"
   },
   "outputs": [],
   "source": [
    "baseline_data = pd.read_csv(\"Baseline.csv\")"
   ]
  },
  {
   "cell_type": "code",
   "execution_count": null,
   "metadata": {
    "colab": {},
    "colab_type": "code",
    "id": "Q5XuU6qHhlLZ"
   },
   "outputs": [],
   "source": [
    "baseline_data"
   ]
  },
  {
   "cell_type": "markdown",
   "metadata": {
    "colab_type": "text",
    "id": "3ry1qwSLhsjv"
   },
   "source": [
    "Let's take a look at the attributes that we can set in a funcation like `.read_csv()`\n",
    "\n",
    "Colab give us the ability to use features like *autocomplete*:\n",
    "- Right now you will have to click on the \"Try new features\" icon in the far upper right hand corner of \n",
    "- Start typing `pd.read_csv()` and you will see the various autocomplete options\n",
    "\n",
    "![alt text](https://github.com/buds-lab/the-building-data-genome-project/blob/master/docs/edx-graphics/EDX-SimulationImage-9.png?raw=true)"
   ]
  },
  {
   "cell_type": "code",
   "execution_count": null,
   "metadata": {
    "colab": {},
    "colab_type": "code",
    "id": "LzFIdHeAhrfg"
   },
   "outputs": [],
   "source": [
    ""
   ]
  },
  {
   "cell_type": "markdown",
   "metadata": {
    "colab_type": "text",
    "id": "Pv0t4ZlxkM9g"
   },
   "source": [
    "### Attribute tuning for `.read_csv()`\n",
    "\n",
    "Right now, the file has been loaded, but let's make the `Month` column the index -- to do this we can use the attribute `index_col=`"
   ]
  },
  {
   "cell_type": "code",
   "execution_count": null,
   "metadata": {
    "colab": {},
    "colab_type": "code",
    "id": "ZbBXZybKhruq"
   },
   "outputs": [],
   "source": [
    "baseline_data = pd.read_csv(\"Baseline.csv\", index_col='Month')"
   ]
  },
  {
   "cell_type": "code",
   "execution_count": null,
   "metadata": {
    "colab": {},
    "colab_type": "code",
    "id": "FOT6VUOPk_f8"
   },
   "outputs": [],
   "source": [
    "baseline_data"
   ]
  },
  {
   "cell_type": "markdown",
   "metadata": {
    "colab_type": "text",
    "id": "nsQE9L9KLwWR"
   },
   "source": [
    "# DataFrame Objects Overview\n",
    "\n",
    "A DataFrame object is a multi-purpose two dimensional object that has dozens of functions that can be applied to it to see what's inside in different ways.\n",
    "\n",
    "A DataFrame is made up of an `index` and a set of `columnts`. \n",
    "\n",
    "The DataFrame object allows us to put data in the **tidy data** format with variables as columns and observations as rows\n"
   ]
  },
  {
   "cell_type": "code",
   "execution_count": null,
   "metadata": {
    "colab": {},
    "colab_type": "code",
    "id": "rU3YfCqwl7Ed"
   },
   "outputs": [],
   "source": [
    "baseline_data.index"
   ]
  },
  {
   "cell_type": "code",
   "execution_count": null,
   "metadata": {
    "colab": {},
    "colab_type": "code",
    "id": "5aF-L6lgmK0g"
   },
   "outputs": [],
   "source": [
    "baseline_data.columns"
   ]
  },
  {
   "cell_type": "markdown",
   "metadata": {
    "colab_type": "text",
    "id": "ohNYmGdTm78s"
   },
   "source": [
    "The `.info()` object is useful in seeing a DataFrame in way that summarizes the number of columns and the type of data in that column. This view is also useful to understand if there are missing values"
   ]
  },
  {
   "cell_type": "code",
   "execution_count": null,
   "metadata": {
    "colab": {},
    "colab_type": "code",
    "id": "IR1DOV4rnH3q"
   },
   "outputs": [],
   "source": [
    "baseline_data.info()"
   ]
  },
  {
   "cell_type": "markdown",
   "metadata": {
    "colab_type": "text",
    "id": "DC09AQyRmHcY"
   },
   "source": [
    "## Subset of Variables\n",
    "Each column is a Pandas *Series* object - which we can select using the name of the column inside of brackets. In this case, there is only a single column. \n",
    "\n",
    "There are two ways to select a column within a DataFrame:\n"
   ]
  },
  {
   "cell_type": "code",
   "execution_count": null,
   "metadata": {
    "colab": {},
    "colab_type": "code",
    "id": "tquI6-ADmPJw"
   },
   "outputs": [],
   "source": [
    "baseline_data['Baseline']"
   ]
  },
  {
   "cell_type": "code",
   "execution_count": null,
   "metadata": {
    "colab": {},
    "colab_type": "code",
    "id": "qqQCQi3Hmgiv"
   },
   "outputs": [],
   "source": [
    "baseline_data.Baseline"
   ]
  },
  {
   "cell_type": "markdown",
   "metadata": {
    "colab_type": "text",
    "id": "_Hm2QKT2l6Bp"
   },
   "source": [
    "## Subset of observations\n",
    "\n",
    "We can see only the first or last few lines using `.tail()` and `.head()`"
   ]
  },
  {
   "cell_type": "code",
   "execution_count": null,
   "metadata": {
    "colab": {},
    "colab_type": "code",
    "id": "yJ0hxd-8Lz0C"
   },
   "outputs": [],
   "source": [
    "baseline_data.head()"
   ]
  },
  {
   "cell_type": "code",
   "execution_count": null,
   "metadata": {
    "colab": {},
    "colab_type": "code",
    "id": "fIU3seHMlYUZ"
   },
   "outputs": [],
   "source": [
    "baseline_data.tail()"
   ]
  },
  {
   "cell_type": "markdown",
   "metadata": {
    "colab_type": "text",
    "id": "IwhMgzFKlnem"
   },
   "source": [
    "Rows in a DataFrame can be filtered using a conditional statement\n",
    "\n"
   ]
  },
  {
   "cell_type": "code",
   "execution_count": null,
   "metadata": {
    "colab": {},
    "colab_type": "code",
    "id": "JYg_E7melrPn"
   },
   "outputs": [],
   "source": [
    "baseline_data[baseline_data['Baseline'] > 10]"
   ]
  },
  {
   "cell_type": "markdown",
   "metadata": {
    "colab_type": "text",
    "id": "pJB1EZpjnfU7"
   },
   "source": [
    "We can get a random sample of the rows in the DataFrame"
   ]
  },
  {
   "cell_type": "code",
   "execution_count": null,
   "metadata": {
    "colab": {},
    "colab_type": "code",
    "id": "_K9z0ZswnZyq"
   },
   "outputs": [],
   "source": [
    "baseline_data.sample(frac=0.5)"
   ]
  },
  {
   "cell_type": "code",
   "execution_count": null,
   "metadata": {
    "colab": {},
    "colab_type": "code",
    "id": "WFKZRHv1nlKM"
   },
   "outputs": [],
   "source": [
    "baseline_data.sample(n=3)"
   ]
  },
  {
   "cell_type": "markdown",
   "metadata": {
    "colab_type": "text",
    "id": "ks7MkoVQEGOF"
   },
   "source": [
    "### Sorting and Renaming a DataFrame\n",
    "\n",
    "Sometimes we need to sort the observations in a certain column -- there are several functions for this purpose"
   ]
  },
  {
   "cell_type": "code",
   "execution_count": null,
   "metadata": {
    "colab": {},
    "colab_type": "code",
    "id": "72zWvEYBEovj"
   },
   "outputs": [],
   "source": [
    "baseline_data.sort_values('Baseline')"
   ]
  },
  {
   "cell_type": "code",
   "execution_count": null,
   "metadata": {
    "colab": {},
    "colab_type": "code",
    "id": "3XJanxCSEo7x"
   },
   "outputs": [],
   "source": [
    "baseline_data.sort_index()"
   ]
  },
  {
   "cell_type": "code",
   "execution_count": null,
   "metadata": {
    "colab": {},
    "colab_type": "code",
    "id": "V6qnJXIsF4M6"
   },
   "outputs": [],
   "source": [
    "baseline_data.rename(columns={'Baseline':'Baseline Cooling Consumption in GWh'})"
   ]
  },
  {
   "cell_type": "markdown",
   "metadata": {
    "colab_type": "text",
    "id": "_ocTfWK4GMzj"
   },
   "source": [
    "# Monthly Energy Visualization\n",
    "\n",
    "Now that we've investigated various ways to slice and dice the DataFrame, let's take a look at the data in a visualization format.\n",
    "\n",
    "### The **Baseline** simulation model is the design of the building with conventional design options. Let's take a look at the energy consumption per month:"
   ]
  },
  {
   "cell_type": "code",
   "execution_count": null,
   "metadata": {
    "colab": {},
    "colab_type": "code",
    "id": "X7tvzWpjnsPL"
   },
   "outputs": [],
   "source": [
    "baseline_data.plot()"
   ]
  },
  {
   "cell_type": "markdown",
   "metadata": {
    "colab_type": "text",
    "id": "X61Vs4LaGnCg"
   },
   "source": [
    "We can modify various parts of the graphic using attributes of the DataFrame and `.plot()` function"
   ]
  },
  {
   "cell_type": "code",
   "execution_count": null,
   "metadata": {
    "colab": {},
    "colab_type": "code",
    "id": "XszUTSorCTLT"
   },
   "outputs": [],
   "source": [
    "baseline_data.columns.name = 'Scenario'\n",
    "baseline_data.index.name = 'Months of the Year'\n",
    "baseline_data.plot(lw=2, colormap='jet', marker='.', markersize=10, \n",
    "        title='Cooling Energy Consumption of Baseline Building in Total GWh')"
   ]
  },
  {
   "cell_type": "markdown",
   "metadata": {
    "colab_type": "text",
    "id": "KS2Iel8jHrDF"
   },
   "source": [
    "# Overview of Design Option Scenarios\n",
    "\n",
    "In this analysis, we will consider five additional sets of design options focused on various design options. \n",
    "\n",
    "\n"
   ]
  },
  {
   "cell_type": "markdown",
   "metadata": {
    "colab_type": "text",
    "id": "u5Ltvm9QLZP4"
   },
   "source": [
    "# Compare two files -- Baseline vs. Different Scheduling\n",
    "\n",
    "First let's take a look at one of the design options - the use of optimized schedules. Instead of the building operating 24/7, the building would have the cooling system on only during operating hours. Let's take a look at this comparison\n",
    "\n",
    "![alt text](https://github.com/buds-lab/the-building-data-genome-project/blob/master/docs/edx-graphics/EDX-SimulationImage-3.png?raw=true)\n",
    "\n",
    "First, let's get the data from that file"
   ]
  },
  {
   "cell_type": "code",
   "execution_count": null,
   "metadata": {
    "colab": {},
    "colab_type": "code",
    "id": "CAnN1O82MMgl"
   },
   "outputs": [],
   "source": [
    "ls"
   ]
  },
  {
   "cell_type": "code",
   "execution_count": null,
   "metadata": {
    "colab": {},
    "colab_type": "code",
    "id": "MSjLiId7MAxw"
   },
   "outputs": [],
   "source": [
    "schedule_scenario = pd.read_csv(\"Scenario - Aircon Schedules.csv\", index_col=\"Month\")"
   ]
  },
  {
   "cell_type": "code",
   "execution_count": null,
   "metadata": {
    "colab": {},
    "colab_type": "code",
    "id": "X0M8Yi4sMQz-"
   },
   "outputs": [],
   "source": [
    "schedule_scenario"
   ]
  },
  {
   "cell_type": "markdown",
   "metadata": {
    "colab_type": "text",
    "id": "i8C_v5tINZgq"
   },
   "source": [
    "Let's take a look at the *Baseline* Scenario again"
   ]
  },
  {
   "cell_type": "code",
   "execution_count": null,
   "metadata": {
    "colab": {},
    "colab_type": "code",
    "id": "RcnlXNTkNdut"
   },
   "outputs": [],
   "source": [
    "baseline_data"
   ]
  },
  {
   "cell_type": "markdown",
   "metadata": {
    "colab_type": "text",
    "id": "E1vVCtjDNpGS"
   },
   "source": [
    "Looks like the *Schedule* scenario uses less energy than the baseline - let's confirm this by combining the two DataFrames using the `.concat()` function"
   ]
  },
  {
   "cell_type": "code",
   "execution_count": null,
   "metadata": {
    "colab": {},
    "colab_type": "code",
    "id": "XtzJ3uRLtoXY"
   },
   "outputs": [],
   "source": [
    "combined_data = pd.concat([baseline_data, schedule_scenario], axis=1)"
   ]
  },
  {
   "cell_type": "code",
   "execution_count": null,
   "metadata": {
    "colab": {},
    "colab_type": "code",
    "id": "Wdn9FFKwvC8R"
   },
   "outputs": [],
   "source": [
    "combined_data"
   ]
  },
  {
   "cell_type": "code",
   "execution_count": null,
   "metadata": {
    "colab": {},
    "colab_type": "code",
    "id": "M9tIR9LTvTs1"
   },
   "outputs": [],
   "source": [
    "combined_data.plot(lw=2, colormap='jet', marker='.', markersize=10, \n",
    "        title='Cooling Energy Consumption of Baseline Building in Total GWh')"
   ]
  },
  {
   "cell_type": "markdown",
   "metadata": {
    "colab_type": "text",
    "id": "jPE5liB1KmZ6"
   },
   "source": [
    "# Make New Columns to Find the Difference between the options\n",
    "\n",
    "Let's use a vector operation to create a new column to find the difference between the columns"
   ]
  },
  {
   "cell_type": "code",
   "execution_count": null,
   "metadata": {
    "colab": {},
    "colab_type": "code",
    "id": "48yg_hRywNO0"
   },
   "outputs": [],
   "source": [
    "combined_data['Difference'] = combined_data['Baseline'] - combined_data['Scenario - Aircon Schedules']"
   ]
  },
  {
   "cell_type": "code",
   "execution_count": null,
   "metadata": {
    "colab": {},
    "colab_type": "code",
    "id": "hw-v7xvSxl1Q"
   },
   "outputs": [],
   "source": [
    "combined_data"
   ]
  },
  {
   "cell_type": "code",
   "execution_count": null,
   "metadata": {
    "colab": {},
    "colab_type": "code",
    "id": "6tmp5G1OwNnF"
   },
   "outputs": [],
   "source": [
    "combined_data['Difference'].plot.bar(title='Difference between Baseline and Improved Schedules in Total GWh')"
   ]
  },
  {
   "cell_type": "markdown",
   "metadata": {
    "colab_type": "text",
    "id": "JhUfD_4YK5Dd"
   },
   "source": [
    "## Define a *function* object to create a new column\n",
    "\n",
    "Let's say we only care to compare all the months except *July* -- we can define a function to calculate a new column"
   ]
  },
  {
   "cell_type": "code",
   "execution_count": null,
   "metadata": {
    "colab": {},
    "colab_type": "code",
    "id": "DCsuTjLqwN0H"
   },
   "outputs": [],
   "source": [
    "def get_difference_conditional(monthly_data):\n",
    "  #print(monthly_data)\n",
    "  if monthly_data.name == 'July':\n",
    "    return 0\n",
    "  else:\n",
    "    return monthly_data['Baseline'] - monthly_data['Scenario - Aircon Schedules']"
   ]
  },
  {
   "cell_type": "code",
   "execution_count": null,
   "metadata": {
    "colab": {},
    "colab_type": "code",
    "id": "QOBaCMXyysVK"
   },
   "outputs": [],
   "source": [
    "combined_data['Difference_NoJuly'] = combined_data.apply(lambda x: get_difference_conditional(x), axis=1)"
   ]
  },
  {
   "cell_type": "code",
   "execution_count": null,
   "metadata": {
    "colab": {},
    "colab_type": "code",
    "id": "LWKUWJldysYJ"
   },
   "outputs": [],
   "source": [
    "combined_data['Difference_NoJuly'].plot.bar(title='Difference between Baseline and Improved Schedules in Total GWh')"
   ]
  },
  {
   "cell_type": "markdown",
   "metadata": {
    "colab_type": "text",
    "id": "lSKa_li7I2xo"
   },
   "source": [
    "# Compare all of the options\n",
    "\n",
    "![alt text](https://github.com/buds-lab/the-building-data-genome-project/blob/master/docs/edx-graphics/EDX-SimulationImage-4.png?raw=true)\n",
    "\n",
    "![alt text](https://github.com/buds-lab/the-building-data-genome-project/blob/master/docs/edx-graphics/EDX-SimulationImage-5.png?raw=true)\n",
    "\n",
    "![alt text](https://github.com/buds-lab/the-building-data-genome-project/blob/master/docs/edx-graphics/EDX-SimulationImage-6.png?raw=true)\n",
    "\n",
    "![alt text](https://github.com/buds-lab/the-building-data-genome-project/blob/master/docs/edx-graphics/EDX-SimulationImage-7.png?raw=true)\n"
   ]
  },
  {
   "cell_type": "markdown",
   "metadata": {
    "colab_type": "text",
    "id": "6hWs2PEv2zxw"
   },
   "source": [
    "## Use a `for` loop to load the files from all the scenarios\n",
    "\n",
    "There are five more `.csv` files that have data from each simulation. We will use a `for` loop to get the data from each file. Again, we'll use the `os` library to get the names of the files so that we can loop through and grab them."
   ]
  },
  {
   "cell_type": "code",
   "execution_count": null,
   "metadata": {
    "colab": {},
    "colab_type": "code",
    "id": "3M4ancweJrLe"
   },
   "outputs": [],
   "source": [
    "os.listdir()"
   ]
  },
  {
   "cell_type": "markdown",
   "metadata": {
    "colab_type": "text",
    "id": "4n19mwVcKGXX"
   },
   "source": [
    "Let's take the files out of this list that we want to analyze and put them in a *list* called `list_of_files`"
   ]
  },
  {
   "cell_type": "code",
   "execution_count": null,
   "metadata": {
    "colab": {},
    "colab_type": "code",
    "id": "gTV5BiOwKAfI"
   },
   "outputs": [],
   "source": [
    "list_of_files = ['Scenario - Aircon Schedules.csv',\n",
    " 'Scenario - Cool roof.csv',\n",
    " 'Scenario - Rooftop Gardens.csv',\n",
    " 'Scenario - Increase Setpoint.csv',\n",
    " 'Scenario - Low-E Glass.csv',\n",
    " 'Baseline.csv']"
   ]
  },
  {
   "cell_type": "code",
   "execution_count": null,
   "metadata": {
    "colab": {},
    "colab_type": "code",
    "id": "5DoBannmKP87"
   },
   "outputs": [],
   "source": [
    "list_of_files"
   ]
  },
  {
   "cell_type": "markdown",
   "metadata": {
    "colab_type": "text",
    "id": "v8sVwLD-LETA"
   },
   "source": [
    "First let's loop through all the filenames just to show that we can"
   ]
  },
  {
   "cell_type": "code",
   "execution_count": null,
   "metadata": {
    "colab": {},
    "colab_type": "code",
    "id": "iHzddWUgKRQ_"
   },
   "outputs": [],
   "source": [
    "for filename in list_of_files:\n",
    "  print(filename)"
   ]
  },
  {
   "cell_type": "markdown",
   "metadata": {
    "colab_type": "text",
    "id": "4WDR-3VX0PBh"
   },
   "source": [
    "Now we can use the `.append()` function of Python *list* object and the `.concat()` function to loop through and get the data from each building"
   ]
  },
  {
   "cell_type": "code",
   "execution_count": null,
   "metadata": {
    "colab": {},
    "colab_type": "code",
    "id": "-qdiC8dsKUnn"
   },
   "outputs": [],
   "source": [
    "data_container = []\n",
    "for filename in list_of_files:\n",
    "  print(filename)\n",
    "  df = pd.read_csv(filename, index_col='Month')\n",
    "  data_container.append(df)\n",
    "\n",
    "all_data = pd.concat(data_container, axis=1)"
   ]
  },
  {
   "cell_type": "code",
   "execution_count": null,
   "metadata": {
    "colab": {},
    "colab_type": "code",
    "id": "-8SNy4txKl3S"
   },
   "outputs": [],
   "source": [
    "all_data"
   ]
  },
  {
   "cell_type": "code",
   "execution_count": null,
   "metadata": {
    "colab": {},
    "colab_type": "code",
    "id": "hFkTzxt6K1iB"
   },
   "outputs": [],
   "source": [
    "all_data.info()"
   ]
  },
  {
   "cell_type": "code",
   "execution_count": null,
   "metadata": {
    "colab": {},
    "colab_type": "code",
    "id": "CTbsu0zLK4l4"
   },
   "outputs": [],
   "source": [
    "all_data.plot(lw=2, colormap='jet', marker='.', markersize=10, \n",
    "        title='Cooling Energy Consumption of Baseline Building in Total GWh', figsize=(15,8))"
   ]
  },
  {
   "cell_type": "markdown",
   "metadata": {
    "colab_type": "text",
    "id": "SLH4t02PEETd"
   },
   "source": [
    "## Using web-based resources to figure out how to do things\n",
    "\n",
    "Now we have all the data in one DataFrame, but now what? I think we need to subtract the baseline from each column. I'm not sure how to do that.\n",
    "\n",
    "In this situation, you can use the best coding assistant in history -- Google. \n",
    "\n",
    "Here is the top result of the google search \"subtracting all columns in a dataframe by one column\":\n",
    "\n",
    "https://stackoverflow.com/questions/45383144/subtracting-many-columns-in-a-df-by-one-column-in-another-df\n",
    "\n",
    "This stackoverflow site gives us guidance how to chain together a few functions together to get the result we want\n",
    "\n"
   ]
  },
  {
   "cell_type": "markdown",
   "metadata": {
    "colab_type": "text",
    "id": "pjYJXnYZEXsr"
   },
   "source": [
    "### Chaining functions\n",
    "\n",
    "Now we can chain a few functions together to see the total energy consumption reduction from each of the design options"
   ]
  },
  {
   "cell_type": "code",
   "execution_count": null,
   "metadata": {
    "colab": {},
    "colab_type": "code",
    "id": "2vAwc-KVK_g0"
   },
   "outputs": [],
   "source": [
    "all_data.subtract(all_data['Baseline'], axis=0).sum().plot.bar()"
   ]
  },
  {
   "cell_type": "markdown",
   "metadata": {
    "colab_type": "text",
    "id": "o6fsO8L8PVFq"
   },
   "source": [
    "Turns out that Increasing the setpoing is by far the most effective energy savings option! Schedules are second place and cool roof is third. The Rooftop gardens and Low-E glass seem to have only a bit of impact for this building"
   ]
  },
  {
   "cell_type": "markdown",
   "metadata": {
    "colab_type": "text",
    "id": "1OYnCropOugW"
   },
   "source": [
    "## Troubleshooting bugs using Stackoverflow\n",
    "\n",
    "Soemtimes we run into bugs -- these are when we get errors from the Python kernel. \n",
    "\n",
    "For example, let's say that we want to use the `.drop()` function to remove some of the columns in a DataFrame. Let's give it a try:"
   ]
  },
  {
   "cell_type": "code",
   "execution_count": null,
   "metadata": {
    "colab": {},
    "colab_type": "code",
    "id": "4sQ3XxXiER0L"
   },
   "outputs": [],
   "source": [
    "all_data.drop()"
   ]
  },
  {
   "cell_type": "markdown",
   "metadata": {
    "colab_type": "text",
    "id": "UxLl2_FOPCWP"
   },
   "source": [
    "We ran into an error! Colab is so helpful that it gives you a button to Google the error message on Stackoverflow -- we find a solution at this site: https://stackoverflow.com/questions/49979122/getting-valueerror-need-to-specify-at-least-one-of-labels-index-or-column\n",
    "\n"
   ]
  },
  {
   "cell_type": "code",
   "execution_count": null,
   "metadata": {
    "colab": {},
    "colab_type": "code",
    "id": "cBUcyIQrEo7M"
   },
   "outputs": [],
   "source": [
    ""
   ]
  }
 ],
 "metadata": {
  "colab": {
   "collapsed_sections": [],
   "name": "Pandas Fundamentals - Building Simulation Analysis.ipynb",
   "provenance": [],
   "toc_visible": true
  },
  "kernelspec": {
   "display_name": "Python 3",
   "name": "python3"
  }
 },
 "nbformat": 4,
 "nbformat_minor": 0
}
