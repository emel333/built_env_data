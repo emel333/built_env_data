{
 "cells": [
  {
   "cell_type": "markdown",
   "metadata": {
    "colab_type": "text",
    "id": "m20Yf19rLEPt"
   },
   "source": [
    "# Normalizing energy consumption of buildings to be able to compare them to each other\n",
    "\n",
    "- Created by Clayton Miller - clayton@nus.edu.sg - miller.clayton@gmail.com\n",
    "\n",
    "Buildings come in all shapes, sizes and uses. It is difficult to compare the energy consumption of two buildings if they are not similar in these ways as it wouldn't be an *apples to apples* comparison. In order to compare buildings of different uses, sizes, and climates -- we have to do a process called `normalization`.\n",
    "\n"
   ]
  },
  {
   "cell_type": "markdown",
   "metadata": {
    "colab_type": "text",
    "id": "xnk7HS-Oy4dL"
   },
   "source": [
    "## The question -- how can we compare the energy consumption of buildings that are different sizes, from different climates, etc.?\n",
    "\n",
    "To get started with this task, we can use the the BDG data set from several buildings. First we'll load the libraries and data once again.\n"
   ]
  },
  {
   "cell_type": "code",
   "execution_count": null,
   "metadata": {
    "colab": {},
    "colab_type": "code",
    "id": "5gvnmaKALEPu"
   },
   "outputs": [],
   "source": [
    "import pandas as pd\n",
    "from google.colab import drive\n",
    "import os"
   ]
  },
  {
   "cell_type": "code",
   "execution_count": null,
   "metadata": {
    "colab": {},
    "colab_type": "code",
    "id": "DQrO8ryCLEPw"
   },
   "outputs": [],
   "source": [
    "%matplotlib inline"
   ]
  },
  {
   "cell_type": "code",
   "execution_count": null,
   "metadata": {
    "colab": {},
    "colab_type": "code",
    "id": "9zT4u7OZLJUz"
   },
   "outputs": [],
   "source": [
    "drive.mount('/content/gdrive')\n",
    "os.chdir(\"/content/gdrive/My Drive/EDX Data Science for Construction, Architecture and Engineering/3 - Construction - Pandas Fundamentals/meter_data/\")"
   ]
  },
  {
   "cell_type": "code",
   "execution_count": null,
   "metadata": {
    "colab": {},
    "colab_type": "code",
    "id": "OrZ6HF-DLEPy"
   },
   "outputs": [],
   "source": [
    "buildingname = \"Office_Abbey\""
   ]
  },
  {
   "cell_type": "code",
   "execution_count": null,
   "metadata": {
    "colab": {},
    "colab_type": "code",
    "id": "sobPskAnLEP0"
   },
   "outputs": [],
   "source": [
    "rawdata = pd.read_csv(buildingname+\".csv\", parse_dates=True, index_col='timestamp')"
   ]
  },
  {
   "cell_type": "code",
   "execution_count": null,
   "metadata": {
    "colab": {},
    "colab_type": "code",
    "id": "CqlA93i8LEP2"
   },
   "outputs": [],
   "source": [
    "rawdata.info()"
   ]
  },
  {
   "cell_type": "code",
   "execution_count": null,
   "metadata": {
    "colab": {},
    "colab_type": "code",
    "id": "tzdnVdMdLEP7"
   },
   "outputs": [],
   "source": [
    "rawdata.head()"
   ]
  },
  {
   "cell_type": "code",
   "execution_count": null,
   "metadata": {
    "colab": {},
    "colab_type": "code",
    "id": "vg-sFY3eLEP9"
   },
   "outputs": [],
   "source": [
    "rawdata.plot(figsize=(20,8))"
   ]
  },
  {
   "cell_type": "markdown",
   "metadata": {
    "colab_type": "text",
    "id": "NXwh8m-cLEQA"
   },
   "source": [
    "# Normalization based on floor area\n",
    "\n",
    "One of the most simple ways of normalization is to simply divide energy consumption by the floor area to create the Energy Use Intensity (EUI). This metric takes energy and simply divides by the floor area (in ft2 or m2)"
   ]
  },
  {
   "cell_type": "code",
   "execution_count": null,
   "metadata": {
    "colab": {},
    "colab_type": "code",
    "id": "ZKlZVVd_LEQA"
   },
   "outputs": [],
   "source": [
    "meta = pd.read_csv(\"/content/gdrive/My Drive/EDX Data Science for Construction, Architecture and Engineering/3 - Construction - Pandas Fundamentals/all_buildings_meta_data.csv\", index_col=\"uid\")"
   ]
  },
  {
   "cell_type": "code",
   "execution_count": null,
   "metadata": {
    "colab": {},
    "colab_type": "code",
    "id": "nmlHpJ2PLEQC"
   },
   "outputs": [],
   "source": [
    "meta.head()"
   ]
  },
  {
   "cell_type": "markdown",
   "metadata": {
    "colab_type": "text",
    "id": "9fwNyRMSzE2E"
   },
   "source": [
    "## Extract meta data from another file\n",
    "\n",
    "You can see in the meta data file that there are various attributes that we can use to normalize the building consumption -- including `sqm` or size of the building"
   ]
  },
  {
   "cell_type": "code",
   "execution_count": null,
   "metadata": {
    "colab": {},
    "colab_type": "code",
    "id": "rGdbOyW2LEQF"
   },
   "outputs": [],
   "source": [
    "meta.loc[buildingname]"
   ]
  },
  {
   "cell_type": "code",
   "execution_count": null,
   "metadata": {
    "colab": {},
    "colab_type": "code",
    "id": "S3hPe0VoLEQI"
   },
   "outputs": [],
   "source": [
    "meta.loc[buildingname][\"sqm\"]"
   ]
  },
  {
   "cell_type": "markdown",
   "metadata": {
    "colab_type": "text",
    "id": "TnOvBf6yLEQK"
   },
   "source": [
    "Now we normalize using area by using a vector operation and resampling to monthly data."
   ]
  },
  {
   "cell_type": "code",
   "execution_count": null,
   "metadata": {
    "colab": {},
    "colab_type": "code",
    "id": "ey2B1elrLEQM"
   },
   "outputs": [],
   "source": [
    "rawdata.head()"
   ]
  },
  {
   "cell_type": "code",
   "execution_count": null,
   "metadata": {
    "colab": {},
    "colab_type": "code",
    "id": "6dXr_SIkLEQO"
   },
   "outputs": [],
   "source": [
    "rawdata_normalized = rawdata/meta.loc[buildingname][\"sqm\"]"
   ]
  },
  {
   "cell_type": "code",
   "execution_count": null,
   "metadata": {
    "colab": {},
    "colab_type": "code",
    "id": "kXhwS7THLEQS"
   },
   "outputs": [],
   "source": [
    "rawdata_normalized.head()"
   ]
  },
  {
   "cell_type": "code",
   "execution_count": null,
   "metadata": {
    "colab": {},
    "colab_type": "code",
    "id": "Lj6qjXlSLEQW"
   },
   "outputs": [],
   "source": [
    "rawdata_normalized_monthly = rawdata_normalized.resample(\"M\").sum()"
   ]
  },
  {
   "cell_type": "code",
   "execution_count": null,
   "metadata": {
    "colab": {},
    "colab_type": "code",
    "id": "EJLEtqmXLEQa"
   },
   "outputs": [],
   "source": [
    "rawdata_normalized_monthly.plot(kind=\"bar\", figsize=(10,4), title='Energy Consumption per Square Meter Floor Area')"
   ]
  },
  {
   "cell_type": "markdown",
   "metadata": {
    "colab_type": "text",
    "id": "RCtVg7lQLEQd"
   },
   "source": [
    "# Automation of the process of analysis on multiple buildings\n",
    "\n",
    "Normalization is really about the ability to compare a diverse set of buildings\n",
    "\n",
    "Now we load 6 buildings to extract and normalize the data. Since the normalization process is most useful on a set of buildings, we will load six of the BDG buildings as an example to showcase the comparison."
   ]
  },
  {
   "cell_type": "code",
   "execution_count": null,
   "metadata": {
    "colab": {},
    "colab_type": "code",
    "id": "YZ7YENSQLEQd"
   },
   "outputs": [],
   "source": [
    "buildingnamelist = [\"Office_Abbey\",\n",
    "\"Office_Pam\",\n",
    "\"Office_Penny\",\n",
    "\"UnivLab_Allison\",\n",
    "\"UnivLab_Audra\",\n",
    "\"UnivLab_Ciel\"]"
   ]
  },
  {
   "cell_type": "code",
   "execution_count": null,
   "metadata": {
    "colab": {},
    "colab_type": "code",
    "id": "BoopTUAwLEQg"
   },
   "outputs": [],
   "source": [
    "annual_data_list = []\n",
    "annual_data_list_normalized = []"
   ]
  },
  {
   "cell_type": "code",
   "execution_count": null,
   "metadata": {
    "colab": {},
    "colab_type": "code",
    "id": "wc_6hd4WLEQi"
   },
   "outputs": [],
   "source": [
    "for buildingname in buildingnamelist:\n",
    "    print(\"Getting data from: \"+buildingname)\n",
    "    \n",
    "    rawdata = pd.read_csv(buildingname+\".csv\", parse_dates=True, index_col='timestamp')\n",
    "    floor_area = meta.loc[buildingname][\"sqm\"]\n",
    "    \n",
    "    annual = rawdata.sum()\n",
    "\n",
    "    normalized_data = rawdata/floor_area\n",
    "    annual_normalized = normalized_data.sum()\n",
    "    \n",
    "    annual_data_list_normalized.append(annual_normalized)\n",
    "    annual_data_list.append(annual) "
   ]
  },
  {
   "cell_type": "code",
   "execution_count": null,
   "metadata": {
    "colab": {},
    "colab_type": "code",
    "id": "t-Zxt-d5LEQj"
   },
   "outputs": [],
   "source": [
    "totaldata = pd.concat(annual_data_list)\n",
    "totaldata_normalized = pd.concat(annual_data_list_normalized)"
   ]
  },
  {
   "cell_type": "code",
   "execution_count": null,
   "metadata": {
    "colab": {},
    "colab_type": "code",
    "id": "YMmJUJPELEQl"
   },
   "outputs": [],
   "source": [
    "totaldata"
   ]
  },
  {
   "cell_type": "code",
   "execution_count": null,
   "metadata": {
    "colab": {},
    "colab_type": "code",
    "id": "EtA4sLadLEQn"
   },
   "outputs": [],
   "source": [
    "totaldata_normalized"
   ]
  },
  {
   "cell_type": "markdown",
   "metadata": {
    "colab_type": "text",
    "id": "NRlkTaT5zrSq"
   },
   "source": [
    "## Unnormalized energy consumption\n",
    "\n",
    "As you can see from the annual totals of energy consumption, the Lab named *Ciel* uses a lot of energy as compared to the other buildings!"
   ]
  },
  {
   "cell_type": "code",
   "execution_count": null,
   "metadata": {
    "colab": {},
    "colab_type": "code",
    "id": "dHFsAnK6LEQp"
   },
   "outputs": [],
   "source": [
    "totaldata.plot(kind='bar',figsize=(10,5))"
   ]
  },
  {
   "cell_type": "markdown",
   "metadata": {
    "colab_type": "text",
    "id": "wErsIkHx0C3E"
   },
   "source": [
    "## Normalized Energy Consumption\n",
    "\n",
    "However, when normalized using floor area, *Ciel* is not the highest consumer"
   ]
  },
  {
   "cell_type": "code",
   "execution_count": null,
   "metadata": {
    "colab": {},
    "colab_type": "code",
    "id": "FrgWOBbbLEQq"
   },
   "outputs": [],
   "source": [
    "totaldata_normalized.plot(kind='bar',figsize=(10,5))"
   ]
  },
  {
   "cell_type": "code",
   "execution_count": null,
   "metadata": {
    "colab": {},
    "colab_type": "code",
    "id": "VmkuFD3By69T"
   },
   "outputs": [],
   "source": [
    ""
   ]
  }
 ],
 "metadata": {
  "colab": {
   "collapsed_sections": [],
   "name": "How can we compare energy from buildings that are different?.ipynb",
   "provenance": [],
   "toc_visible": true
  },
  "kernelspec": {
   "display_name": "Python 3",
   "language": "python",
   "name": "python3"
  },
  "language_info": {
   "codemirror_mode": {
    "name": "ipython",
    "version": 3
   },
   "file_extension": ".py",
   "mimetype": "text/x-python",
   "name": "python",
   "nbconvert_exporter": "python",
   "pygments_lexer": "ipython3",
   "version": "3.6.8"
  }
 },
 "nbformat": 4,
 "nbformat_minor": 0
}
