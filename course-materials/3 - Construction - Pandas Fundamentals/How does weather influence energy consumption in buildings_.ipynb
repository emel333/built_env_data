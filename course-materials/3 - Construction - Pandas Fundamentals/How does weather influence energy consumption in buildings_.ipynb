{
 "cells": [
  {
   "cell_type": "markdown",
   "metadata": {
    "colab_type": "text",
    "id": "EwPDk4HzKRg9"
   },
   "source": [
    "# Weather Influence on Energy Consumption of a Building\n",
    "\n",
    "- Created by Clayton Miller - clayton@nus.edu.sg - miller.clayton@gmail.com\n",
    "\n",
    "We learned in the last notebook that the floor area is a good normalizing factor for energy consumption. The question we will look into now is how weather influences energy consumption\n",
    "\n"
   ]
  },
  {
   "cell_type": "code",
   "execution_count": null,
   "metadata": {
    "colab": {},
    "colab_type": "code",
    "id": "7RXj3krMKRg_"
   },
   "outputs": [],
   "source": [
    "import pandas as pd\n",
    "from google.colab import drive\n",
    "import os"
   ]
  },
  {
   "cell_type": "code",
   "execution_count": null,
   "metadata": {
    "colab": {},
    "colab_type": "code",
    "id": "5vPRalz6KRhC"
   },
   "outputs": [],
   "source": [
    "%matplotlib inline"
   ]
  },
  {
   "cell_type": "code",
   "execution_count": null,
   "metadata": {
    "colab": {},
    "colab_type": "code",
    "id": "1BWzey13KWB3"
   },
   "outputs": [],
   "source": [
    "drive.mount('/content/gdrive')\n",
    "os.chdir(\"/content/gdrive/My Drive/EDX Data Science for Construction, Architecture and Engineering/3 - Construction - Pandas Fundamentals/meter_data/\")"
   ]
  },
  {
   "cell_type": "markdown",
   "metadata": {
    "colab_type": "text",
    "id": "IrA0vnIDfqQ7"
   },
   "source": [
    "If you get an error after the last cell, check that the file path you have in your code is the same as the location of where the folder is on your own personal Google Drive."
   ]
  },
  {
   "cell_type": "code",
   "execution_count": null,
   "metadata": {
    "colab": {},
    "colab_type": "code",
    "id": "NX0dSMRtKRhE"
   },
   "outputs": [],
   "source": [
    "rawdata = pd.read_csv(\"UnivClass_Ciara.csv\", parse_dates=True, index_col='timestamp')"
   ]
  },
  {
   "cell_type": "code",
   "execution_count": null,
   "metadata": {
    "colab": {},
    "colab_type": "code",
    "id": "UqJ2PXT6KRhG"
   },
   "outputs": [],
   "source": [
    "rawdata.info()"
   ]
  },
  {
   "cell_type": "code",
   "execution_count": null,
   "metadata": {
    "colab": {},
    "colab_type": "code",
    "id": "03iwP7tAKRhK"
   },
   "outputs": [],
   "source": [
    "rawdata.plot(figsize=(10,4))"
   ]
  },
  {
   "cell_type": "markdown",
   "metadata": {
    "colab_type": "text",
    "id": "AvFfTa5nKRhN"
   },
   "source": [
    "# Load the weather data file - Cleaning Data and Dealing with Missing Data\n",
    "\n",
    "In this case, we will use weather data files to supplement the analysis and converge two different datasets\n",
    "\n",
    "First we will have to find the right weather file (can be found in the `meta.csv` file manually). For this building, the weather file is `weather2.csv`"
   ]
  },
  {
   "cell_type": "code",
   "execution_count": null,
   "metadata": {
    "colab": {},
    "colab_type": "code",
    "id": "TN_UZNUGKRhO"
   },
   "outputs": [],
   "source": [
    "os.chdir(\"/content/gdrive/My Drive/EDX Data Science for Construction, Architecture and Engineering/3 - Construction - Pandas Fundamentals/weather_data/\")\n",
    "weather_data = pd.read_csv(\"weather2.csv\", index_col='timestamp', parse_dates=True)"
   ]
  },
  {
   "cell_type": "code",
   "execution_count": null,
   "metadata": {
    "colab": {},
    "colab_type": "code",
    "id": "zv1lVGz6KRhQ"
   },
   "outputs": [],
   "source": [
    "weather_data.head()"
   ]
  },
  {
   "cell_type": "code",
   "execution_count": null,
   "metadata": {
    "colab": {},
    "colab_type": "code",
    "id": "hmPA6Lm7KRhT"
   },
   "outputs": [],
   "source": [
    "weather_data.info()"
   ]
  },
  {
   "cell_type": "markdown",
   "metadata": {
    "colab_type": "text",
    "id": "CVyheIgS2E9b"
   },
   "source": [
    "Let's take a look at the data"
   ]
  },
  {
   "cell_type": "code",
   "execution_count": null,
   "metadata": {
    "colab": {},
    "colab_type": "code",
    "id": "3pao6K2WKRhW"
   },
   "outputs": [],
   "source": [
    "weather_data[\"TemperatureC\"].plot(figsize=(10,4))"
   ]
  },
  {
   "cell_type": "markdown",
   "metadata": {
    "colab_type": "text",
    "id": "xPDW46BT2IPx"
   },
   "source": [
    "## Finding and removing outliers\n",
    "\n",
    "Looks like there are quite a few readings in this data set that are very unprobable -- temperature below 10,000 Deg C is physically impossible. \n",
    "\n",
    "This is a common scenario with IoT devices and we can filter those outlier and fill the gaps "
   ]
  },
  {
   "cell_type": "code",
   "execution_count": null,
   "metadata": {
    "colab": {},
    "colab_type": "code",
    "id": "nSiDQ7L3KRhZ"
   },
   "outputs": [],
   "source": [
    "weather_hourly = weather_data.resample(\"H\").mean()"
   ]
  },
  {
   "cell_type": "code",
   "execution_count": null,
   "metadata": {
    "colab": {},
    "colab_type": "code",
    "id": "NtA_u1hDKRha"
   },
   "outputs": [],
   "source": [
    "weather_hourly_nooutlier = weather_hourly[weather_hourly > -40]"
   ]
  },
  {
   "cell_type": "code",
   "execution_count": null,
   "metadata": {
    "colab": {},
    "colab_type": "code",
    "id": "m17PZBOzKRhc"
   },
   "outputs": [],
   "source": [
    "weather_hourly.info()"
   ]
  },
  {
   "cell_type": "code",
   "execution_count": null,
   "metadata": {
    "colab": {},
    "colab_type": "code",
    "id": "hSeKiLqkKRhf"
   },
   "outputs": [],
   "source": [
    "weather_hourly_nooutlier.info()"
   ]
  },
  {
   "cell_type": "code",
   "execution_count": null,
   "metadata": {
    "colab": {},
    "colab_type": "code",
    "id": "u1wKNyyZKRhi"
   },
   "outputs": [],
   "source": [
    "weather_hourly_nooutlier[\"TemperatureC\"].plot(figsize=(10,4))"
   ]
  },
  {
   "cell_type": "markdown",
   "metadata": {
    "colab_type": "text",
    "id": "EPNRrZOV6cKr"
   },
   "source": [
    "## Filling gaps in data\n",
    "\n",
    "We can fill the gap left by filtering the outliers by using the `.fillna()` function"
   ]
  },
  {
   "cell_type": "code",
   "execution_count": null,
   "metadata": {
    "colab": {},
    "colab_type": "code",
    "id": "TK-iq_RjKRhl"
   },
   "outputs": [],
   "source": [
    "weather_hourly_nooutlier_nogaps = weather_hourly_nooutlier.fillna(method='ffill')"
   ]
  },
  {
   "cell_type": "code",
   "execution_count": null,
   "metadata": {
    "colab": {},
    "colab_type": "code",
    "id": "YiPwxS7aKRhm"
   },
   "outputs": [],
   "source": [
    "weather_hourly_nooutlier_nogaps.info()"
   ]
  },
  {
   "cell_type": "markdown",
   "metadata": {
    "colab_type": "text",
    "id": "aDKHSRFyKRhr"
   },
   "source": [
    "# Merge Temperature and Electricity Data - Combining Data Sets\n",
    "\n",
    "Once again, we need to converge two data sets -- this time we will use both the `.concat()` and the `.merge()` function to show the differences"
   ]
  },
  {
   "cell_type": "code",
   "execution_count": null,
   "metadata": {
    "colab": {},
    "colab_type": "code",
    "id": "xoxI2C5EKRhs"
   },
   "outputs": [],
   "source": [
    "weather_hourly_nooutlier_nogaps['TemperatureC'].head()"
   ]
  },
  {
   "cell_type": "code",
   "execution_count": null,
   "metadata": {
    "colab": {},
    "colab_type": "code",
    "id": "od0tIg3jKRhw"
   },
   "outputs": [],
   "source": [
    "rawdata = rawdata[~rawdata.index.duplicated(keep='first')]"
   ]
  },
  {
   "cell_type": "code",
   "execution_count": null,
   "metadata": {
    "colab": {},
    "colab_type": "code",
    "id": "YURObEyyKRhy"
   },
   "outputs": [],
   "source": [
    "rawdata['UnivClass_Ciara'].head()"
   ]
  },
  {
   "cell_type": "code",
   "execution_count": null,
   "metadata": {
    "colab": {},
    "colab_type": "code",
    "id": "J4XD8s6ytai_"
   },
   "outputs": [],
   "source": [
    ""
   ]
  },
  {
   "cell_type": "markdown",
   "metadata": {
    "colab_type": "text",
    "id": "SAbeqT2rta4y"
   },
   "source": [
    "## Using `.concat()` to combine data sets"
   ]
  },
  {
   "cell_type": "code",
   "execution_count": null,
   "metadata": {
    "colab": {},
    "colab_type": "code",
    "id": "FjlvrU5EKRh0"
   },
   "outputs": [],
   "source": [
    "comparison = pd.concat([weather_hourly_nooutlier_nogaps['TemperatureC'], rawdata['UnivClass_Ciara']], axis=1)"
   ]
  },
  {
   "cell_type": "code",
   "execution_count": null,
   "metadata": {
    "colab": {},
    "colab_type": "code",
    "id": "Bi_GONkjKRh2"
   },
   "outputs": [],
   "source": [
    "comparison.info()"
   ]
  },
  {
   "cell_type": "code",
   "execution_count": null,
   "metadata": {
    "colab": {},
    "colab_type": "code",
    "id": "1k7fW3V3KRh4"
   },
   "outputs": [],
   "source": [
    "comparison.head()"
   ]
  },
  {
   "cell_type": "markdown",
   "metadata": {
    "colab_type": "text",
    "id": "7DED1tEM7PN6"
   },
   "source": [
    "## Using the `.merge()` function\n",
    "\n",
    "the `.merge()` function is useful in converging data sets that don't fit perfectly together. Merge has several additional attributes that indicate which columns will be merged upon and **how** the merge will occur.\n",
    "\n",
    "Refer to Pandas cheat sheet for more information: https://pandas.pydata.org/Pandas_Cheat_Sheet.pdf"
   ]
  },
  {
   "cell_type": "code",
   "execution_count": null,
   "metadata": {
    "colab": {},
    "colab_type": "code",
    "id": "Foe42Vqi7a0B"
   },
   "outputs": [],
   "source": [
    "comparison_merged = pd.merge(weather_hourly_nooutlier_nogaps['TemperatureC'], rawdata['UnivClass_Ciara'], left_index=True, right_index=True, how='outer')"
   ]
  },
  {
   "cell_type": "code",
   "execution_count": null,
   "metadata": {
    "colab": {},
    "colab_type": "code",
    "id": "dG3-ogp17a5F"
   },
   "outputs": [],
   "source": [
    "comparison_merged.info()"
   ]
  },
  {
   "cell_type": "code",
   "execution_count": null,
   "metadata": {
    "colab": {},
    "colab_type": "code",
    "id": "YKwlK25e7a9O"
   },
   "outputs": [],
   "source": [
    ""
   ]
  },
  {
   "cell_type": "code",
   "execution_count": null,
   "metadata": {
    "colab": {},
    "colab_type": "code",
    "id": "sMrl44iY7a3u"
   },
   "outputs": [],
   "source": [
    ""
   ]
  },
  {
   "cell_type": "code",
   "execution_count": null,
   "metadata": {
    "colab": {},
    "colab_type": "code",
    "id": "RDNdYhn3KRh7"
   },
   "outputs": [],
   "source": [
    "comparison.plot(figsize=(20,10), subplots=True)"
   ]
  },
  {
   "cell_type": "markdown",
   "metadata": {
    "colab_type": "text",
    "id": "IRKISO_rKRh-"
   },
   "source": [
    "# Analyze the weather influence on energy consumption\n",
    "\n",
    "In order to understand how weather and energy are related -- we will use a `scatterplot` to visualize the comparison"
   ]
  },
  {
   "cell_type": "code",
   "execution_count": null,
   "metadata": {
    "colab": {},
    "colab_type": "code",
    "id": "Gdm71o1KKRh-"
   },
   "outputs": [],
   "source": [
    "comparison.plot(kind='scatter', x='TemperatureC', y='UnivClass_Ciara', figsize=(10,10))"
   ]
  },
  {
   "cell_type": "code",
   "execution_count": null,
   "metadata": {
    "colab": {},
    "colab_type": "code",
    "id": "C0PzPRdkKRiC"
   },
   "outputs": [],
   "source": [
    "comparison.resample(\"D\").mean().plot(kind='scatter', x='TemperatureC', y='UnivClass_Ciara', figsize=(10,10))"
   ]
  },
  {
   "cell_type": "markdown",
   "metadata": {
    "colab_type": "text",
    "id": "W7-BwVSZRZWb"
   },
   "source": [
    "# Advanced Visualizations using Seaborn\n",
    "\n",
    "It looks there are two linear models with a change point happening in this situation - let's use some more advanced visualization techniques using the Seaborn library to visualize the two regions and draw a regression line between them\n",
    "\n",
    "https://seaborn.pydata.org/"
   ]
  },
  {
   "cell_type": "code",
   "execution_count": null,
   "metadata": {
    "colab": {},
    "colab_type": "code",
    "id": "MJdyXDR0Slwv"
   },
   "outputs": [],
   "source": [
    "import seaborn as sns"
   ]
  },
  {
   "cell_type": "code",
   "execution_count": null,
   "metadata": {
    "colab": {},
    "colab_type": "code",
    "id": "QfbFetbGR9FJ"
   },
   "outputs": [],
   "source": [
    "comparison.info()"
   ]
  },
  {
   "cell_type": "code",
   "execution_count": null,
   "metadata": {
    "colab": {},
    "colab_type": "code",
    "id": "Dh1dwmp0RyYB"
   },
   "outputs": [],
   "source": [
    "comparison[comparison.TemperatureC > 14].info()"
   ]
  },
  {
   "cell_type": "code",
   "execution_count": null,
   "metadata": {
    "colab": {},
    "colab_type": "code",
    "id": "itvCOiggSqUC"
   },
   "outputs": [],
   "source": [
    "def make_color_division(x):\n",
    "  if x < 14:\n",
    "    return \"Heating\"\n",
    "  else:\n",
    "    return \"Cooling\""
   ]
  },
  {
   "cell_type": "code",
   "execution_count": null,
   "metadata": {
    "colab": {},
    "colab_type": "code",
    "id": "ptHZWKCVXh4h"
   },
   "outputs": [],
   "source": [
    "comparison = comparison.resample(\"D\").mean()"
   ]
  },
  {
   "cell_type": "code",
   "execution_count": null,
   "metadata": {
    "colab": {},
    "colab_type": "code",
    "id": "RIWSq7_DSqd5"
   },
   "outputs": [],
   "source": [
    "comparison['heating_vs_cooling'] = comparison.TemperatureC.apply(lambda x: make_color_division(x))"
   ]
  },
  {
   "cell_type": "code",
   "execution_count": null,
   "metadata": {
    "colab": {},
    "colab_type": "code",
    "id": "PCguMhMrXIyp"
   },
   "outputs": [],
   "source": [
    "comparison.head()"
   ]
  },
  {
   "cell_type": "code",
   "execution_count": null,
   "metadata": {
    "colab": {},
    "colab_type": "code",
    "id": "c9ZPX4_2RfiY"
   },
   "outputs": [],
   "source": [
    "g = sns.lmplot(x=\"TemperatureC\", y=\"UnivClass_Ciara\", hue=\"heating_vs_cooling\",\n",
    "               truncate=True, data=comparison)\n",
    "\n",
    "g.set_axis_labels(\"Outdoor Air Temperature\", \"Average Hourly kWH\")"
   ]
  },
  {
   "cell_type": "code",
   "execution_count": null,
   "metadata": {
    "colab": {},
    "colab_type": "code",
    "id": "2TNOjVIJRrIj"
   },
   "outputs": [],
   "source": [
    ""
   ]
  }
 ],
 "metadata": {
  "colab": {
   "collapsed_sections": [],
   "name": "How does weather influence energy consumption in buildings?.ipynb",
   "provenance": [],
   "toc_visible": true
  },
  "kernelspec": {
   "display_name": "Python 3",
   "language": "python",
   "name": "python3"
  },
  "language_info": {
   "codemirror_mode": {
    "name": "ipython",
    "version": 3
   },
   "file_extension": ".py",
   "mimetype": "text/x-python",
   "name": "python",
   "nbconvert_exporter": "python",
   "pygments_lexer": "ipython3",
   "version": "3.6.8"
  }
 },
 "nbformat": 4,
 "nbformat_minor": 0
}
